{
 "cells": [
  {
   "cell_type": "markdown",
   "metadata": {},
   "source": [
    "**A data science experiment using data from the KDD 2010 Educational Data Mining Challenge**\n",
    "\n",
    "The aim of this IPython Notebook is to give you a sense of the dataset.\n"
   ]
  },
  {
   "cell_type": "code",
   "execution_count": 2,
   "metadata": {},
   "outputs": [],
   "source": [
    "import pandas as pd\n",
    "import numpy as np\n",
    "import matplotlib.pyplot as plt\n",
    "import sklearn\n",
    "import random"
   ]
  },
  {
   "cell_type": "code",
   "execution_count": 3,
   "metadata": {},
   "outputs": [],
   "source": [
    "# Get the data:\n",
    "train_filepath = 'data/train.csv'\n",
    "traindata = pd.read_table(train_filepath)"
   ]
  },
  {
   "cell_type": "code",
   "execution_count": 3,
   "metadata": {},
   "outputs": [
    {
     "data": {
      "text/plain": [
       "Index(['Row', 'Anon Student Id', 'Problem Hierarchy', 'Problem Name',\n",
       "       'Problem View', 'Step Name', 'Step Start Time',\n",
       "       'First Transaction Time', 'Correct Transaction Time', 'Step End Time',\n",
       "       'Step Duration (sec)', 'Correct Step Duration (sec)',\n",
       "       'Error Step Duration (sec)', 'Correct First Attempt', 'Incorrects',\n",
       "       'Hints', 'Corrects', 'KC(Default)', 'Opportunity(Default)'],\n",
       "      dtype='object')"
      ]
     },
     "execution_count": 3,
     "metadata": {},
     "output_type": "execute_result"
    }
   ],
   "source": [
    "traindata.columns"
   ]
  },
  {
   "cell_type": "code",
   "execution_count": 4,
   "metadata": {},
   "outputs": [
    {
     "data": {
      "text/html": [
       "<div>\n",
       "<style scoped>\n",
       "    .dataframe tbody tr th:only-of-type {\n",
       "        vertical-align: middle;\n",
       "    }\n",
       "\n",
       "    .dataframe tbody tr th {\n",
       "        vertical-align: top;\n",
       "    }\n",
       "\n",
       "    .dataframe thead th {\n",
       "        text-align: right;\n",
       "    }\n",
       "</style>\n",
       "<table border=\"1\" class=\"dataframe\">\n",
       "  <thead>\n",
       "    <tr style=\"text-align: right;\">\n",
       "      <th></th>\n",
       "      <th>Row</th>\n",
       "      <th>Anon Student Id</th>\n",
       "      <th>Problem Hierarchy</th>\n",
       "      <th>Problem Name</th>\n",
       "      <th>Problem View</th>\n",
       "      <th>Step Name</th>\n",
       "      <th>Step Start Time</th>\n",
       "      <th>First Transaction Time</th>\n",
       "      <th>Correct Transaction Time</th>\n",
       "      <th>Step End Time</th>\n",
       "      <th>Step Duration (sec)</th>\n",
       "      <th>Correct Step Duration (sec)</th>\n",
       "      <th>Error Step Duration (sec)</th>\n",
       "      <th>Correct First Attempt</th>\n",
       "      <th>Incorrects</th>\n",
       "      <th>Hints</th>\n",
       "      <th>Corrects</th>\n",
       "      <th>KC(Default)</th>\n",
       "      <th>Opportunity(Default)</th>\n",
       "    </tr>\n",
       "  </thead>\n",
       "  <tbody>\n",
       "    <tr>\n",
       "      <th>0</th>\n",
       "      <td>9938</td>\n",
       "      <td>52vEY7f17k</td>\n",
       "      <td>Unit CTA1_13, Section CTA1_13-1</td>\n",
       "      <td>PROP04</td>\n",
       "      <td>1</td>\n",
       "      <td>R1C1</td>\n",
       "      <td>2005-09-09 12:23:34.0</td>\n",
       "      <td>2005-09-09 12:24:07.0</td>\n",
       "      <td>2005-09-09 12:24:07.0</td>\n",
       "      <td>2005-09-09 12:24:07.0</td>\n",
       "      <td>33.0</td>\n",
       "      <td>33.0</td>\n",
       "      <td>NaN</td>\n",
       "      <td>1</td>\n",
       "      <td>0</td>\n",
       "      <td>0</td>\n",
       "      <td>1</td>\n",
       "      <td>NaN</td>\n",
       "      <td>NaN</td>\n",
       "    </tr>\n",
       "    <tr>\n",
       "      <th>1</th>\n",
       "      <td>9939</td>\n",
       "      <td>52vEY7f17k</td>\n",
       "      <td>Unit CTA1_13, Section CTA1_13-1</td>\n",
       "      <td>PROP04</td>\n",
       "      <td>1</td>\n",
       "      <td>R1C2</td>\n",
       "      <td>2005-09-09 12:24:07.0</td>\n",
       "      <td>2005-09-09 12:24:22.0</td>\n",
       "      <td>2005-09-09 12:24:22.0</td>\n",
       "      <td>2005-09-09 12:24:22.0</td>\n",
       "      <td>15.0</td>\n",
       "      <td>15.0</td>\n",
       "      <td>NaN</td>\n",
       "      <td>1</td>\n",
       "      <td>0</td>\n",
       "      <td>0</td>\n",
       "      <td>1</td>\n",
       "      <td>NaN</td>\n",
       "      <td>NaN</td>\n",
       "    </tr>\n",
       "    <tr>\n",
       "      <th>2</th>\n",
       "      <td>9940</td>\n",
       "      <td>52vEY7f17k</td>\n",
       "      <td>Unit CTA1_13, Section CTA1_13-1</td>\n",
       "      <td>PROP04</td>\n",
       "      <td>1</td>\n",
       "      <td>R3C1</td>\n",
       "      <td>2005-09-09 12:24:22.0</td>\n",
       "      <td>2005-09-09 12:25:16.0</td>\n",
       "      <td>2005-09-09 12:25:40.0</td>\n",
       "      <td>2005-09-09 12:25:40.0</td>\n",
       "      <td>78.0</td>\n",
       "      <td>NaN</td>\n",
       "      <td>78.0</td>\n",
       "      <td>0</td>\n",
       "      <td>2</td>\n",
       "      <td>0</td>\n",
       "      <td>1</td>\n",
       "      <td>Define Variable</td>\n",
       "      <td>1</td>\n",
       "    </tr>\n",
       "    <tr>\n",
       "      <th>3</th>\n",
       "      <td>9941</td>\n",
       "      <td>52vEY7f17k</td>\n",
       "      <td>Unit CTA1_13, Section CTA1_13-1</td>\n",
       "      <td>PROP04</td>\n",
       "      <td>1</td>\n",
       "      <td>R3C2</td>\n",
       "      <td>2005-09-09 12:25:40.0</td>\n",
       "      <td>2005-09-09 12:25:51.0</td>\n",
       "      <td>2005-09-09 12:27:24.0</td>\n",
       "      <td>2005-09-09 12:27:24.0</td>\n",
       "      <td>104.0</td>\n",
       "      <td>NaN</td>\n",
       "      <td>104.0</td>\n",
       "      <td>0</td>\n",
       "      <td>4</td>\n",
       "      <td>9</td>\n",
       "      <td>1</td>\n",
       "      <td>Using small numbers~~Write expression, positiv...</td>\n",
       "      <td>1~~1~~1</td>\n",
       "    </tr>\n",
       "    <tr>\n",
       "      <th>4</th>\n",
       "      <td>9942</td>\n",
       "      <td>52vEY7f17k</td>\n",
       "      <td>Unit CTA1_13, Section CTA1_13-1</td>\n",
       "      <td>PROP04</td>\n",
       "      <td>1</td>\n",
       "      <td>R4C1</td>\n",
       "      <td>2005-09-09 12:27:24.0</td>\n",
       "      <td>2005-09-09 12:27:30.0</td>\n",
       "      <td>2005-09-09 12:27:30.0</td>\n",
       "      <td>2005-09-09 12:27:30.0</td>\n",
       "      <td>6.0</td>\n",
       "      <td>6.0</td>\n",
       "      <td>NaN</td>\n",
       "      <td>1</td>\n",
       "      <td>0</td>\n",
       "      <td>0</td>\n",
       "      <td>1</td>\n",
       "      <td>Entering a given</td>\n",
       "      <td>1</td>\n",
       "    </tr>\n",
       "  </tbody>\n",
       "</table>\n",
       "</div>"
      ],
      "text/plain": [
       "    Row Anon Student Id                Problem Hierarchy Problem Name  \\\n",
       "0  9938      52vEY7f17k  Unit CTA1_13, Section CTA1_13-1       PROP04   \n",
       "1  9939      52vEY7f17k  Unit CTA1_13, Section CTA1_13-1       PROP04   \n",
       "2  9940      52vEY7f17k  Unit CTA1_13, Section CTA1_13-1       PROP04   \n",
       "3  9941      52vEY7f17k  Unit CTA1_13, Section CTA1_13-1       PROP04   \n",
       "4  9942      52vEY7f17k  Unit CTA1_13, Section CTA1_13-1       PROP04   \n",
       "\n",
       "   Problem View Step Name        Step Start Time First Transaction Time  \\\n",
       "0             1      R1C1  2005-09-09 12:23:34.0  2005-09-09 12:24:07.0   \n",
       "1             1      R1C2  2005-09-09 12:24:07.0  2005-09-09 12:24:22.0   \n",
       "2             1      R3C1  2005-09-09 12:24:22.0  2005-09-09 12:25:16.0   \n",
       "3             1      R3C2  2005-09-09 12:25:40.0  2005-09-09 12:25:51.0   \n",
       "4             1      R4C1  2005-09-09 12:27:24.0  2005-09-09 12:27:30.0   \n",
       "\n",
       "  Correct Transaction Time          Step End Time  Step Duration (sec)  \\\n",
       "0    2005-09-09 12:24:07.0  2005-09-09 12:24:07.0                 33.0   \n",
       "1    2005-09-09 12:24:22.0  2005-09-09 12:24:22.0                 15.0   \n",
       "2    2005-09-09 12:25:40.0  2005-09-09 12:25:40.0                 78.0   \n",
       "3    2005-09-09 12:27:24.0  2005-09-09 12:27:24.0                104.0   \n",
       "4    2005-09-09 12:27:30.0  2005-09-09 12:27:30.0                  6.0   \n",
       "\n",
       "   Correct Step Duration (sec)  Error Step Duration (sec)  \\\n",
       "0                         33.0                        NaN   \n",
       "1                         15.0                        NaN   \n",
       "2                          NaN                       78.0   \n",
       "3                          NaN                      104.0   \n",
       "4                          6.0                        NaN   \n",
       "\n",
       "   Correct First Attempt  Incorrects  Hints  Corrects  \\\n",
       "0                      1           0      0         1   \n",
       "1                      1           0      0         1   \n",
       "2                      0           2      0         1   \n",
       "3                      0           4      9         1   \n",
       "4                      1           0      0         1   \n",
       "\n",
       "                                         KC(Default) Opportunity(Default)  \n",
       "0                                                NaN                  NaN  \n",
       "1                                                NaN                  NaN  \n",
       "2                                    Define Variable                    1  \n",
       "3  Using small numbers~~Write expression, positiv...              1~~1~~1  \n",
       "4                                   Entering a given                    1  "
      ]
     },
     "execution_count": 4,
     "metadata": {},
     "output_type": "execute_result"
    }
   ],
   "source": [
    "# Inspect some of the training data\n",
    "traindata.head()"
   ]
  },
  {
   "cell_type": "code",
   "execution_count": 5,
   "metadata": {},
   "outputs": [
    {
     "data": {
      "text/plain": [
       "0         R1C1\n",
       "1         R1C2\n",
       "2         R3C1\n",
       "3         R3C2\n",
       "4         R4C1\n",
       "          ... \n",
       "232739    R5C1\n",
       "232740    R1C2\n",
       "232741    R2C2\n",
       "232742    R3C2\n",
       "232743    R6C2\n",
       "Name: Step Name, Length: 232744, dtype: object"
      ]
     },
     "execution_count": 5,
     "metadata": {},
     "output_type": "execute_result"
    }
   ],
   "source": [
    "traindata['Step Name']"
   ]
  },
  {
   "cell_type": "markdown",
   "metadata": {},
   "source": [
    "Let's begin asking some basic questions of the data\n",
    "\n",
    "### How many students are interacting with the system?"
   ]
  },
  {
   "cell_type": "code",
   "execution_count": 6,
   "metadata": {},
   "outputs": [
    {
     "name": "stdout",
     "output_type": "stream",
     "text": [
      "Number of students:  174\n"
     ]
    }
   ],
   "source": [
    "# Take the column of anonimized student IDs and count the number of unique entries\n",
    "print('Number of students: ', len(np.unique(traindata['Anon Student Id'])))"
   ]
  },
  {
   "cell_type": "markdown",
   "metadata": {},
   "source": [
    "### How long does it take a student to solve any problem step on average?"
   ]
  },
  {
   "cell_type": "code",
   "execution_count": 7,
   "metadata": {},
   "outputs": [
    {
     "data": {
      "text/plain": [
       "count    181599.000000\n",
       "mean         17.924024\n",
       "std          35.179534\n",
       "min           0.000000\n",
       "25%           5.000000\n",
       "50%           8.000000\n",
       "75%          17.000000\n",
       "max        1067.000000\n",
       "Name: Correct Step Duration (sec), dtype: float64"
      ]
     },
     "execution_count": 7,
     "metadata": {},
     "output_type": "execute_result"
    }
   ],
   "source": [
    "csd = traindata['Correct Step Duration (sec)']\n",
    "csd.describe()"
   ]
  },
  {
   "cell_type": "markdown",
   "metadata": {},
   "source": [
    "So ignoring all the students that did not solve a problem step correctly, the average duraction for any problem step was about 18 seconds.\n",
    "\n",
    "Let's histogram this data to see the distribution."
   ]
  },
  {
   "cell_type": "code",
   "execution_count": 8,
   "metadata": {},
   "outputs": [
    {
     "data": {
      "image/png": "[encoded data removed]",
      "text/plain": [
       "<Figure size 640x480 with 1 Axes>"
      ]
     },
     "metadata": {},
     "output_type": "display_data"
    }
   ],
   "source": [
    "%matplotlib inline\n",
    "hist = plt.hist(np.array(csd.dropna()),bins=100,density=True,log=False,range=(0,100))\n",
    "plt.xlabel('Time to correct answer (sec)')\n",
    "plt.ylabel('Fraction')\n",
    "plt.show()"
   ]
  },
  {
   "cell_type": "code",
   "execution_count": 9,
   "metadata": {},
   "outputs": [
    {
     "data": {
      "image/png": "[encoded data removed]",
      "text/plain": [
       "<Figure size 640x480 with 1 Axes>"
      ]
     },
     "metadata": {},
     "output_type": "display_data"
    }
   ],
   "source": [
    "counts, bins = hist[0], hist[1]\n",
    "cdf = np.cumsum(counts)\n",
    "plt.plot(bins[1::], cdf)\n",
    "plt.xlabel('Time to correct answer (sec)')\n",
    "plt.ylabel('Cumulative fraction')\n",
    "plt.axis((0,100,0,1.0))\n",
    "plt.show()"
   ]
  },
  {
   "cell_type": "markdown",
   "metadata": {},
   "source": [
    "The histogram shows visually what mere statistics hints at. The distribution of students is heavily weighted towards those who are solving problems in under 20 seconds. The cumulative distribution function (CDF) shows that roughly 80% of successful students solve the problem within 20 seconds. After 40 seconds, 90% of successful students have finished the problem. Almost no students take longer than 80 seconds."
   ]
  },
  {
   "cell_type": "markdown",
   "metadata": {},
   "source": [
    "### Completion time by problem\n",
    "\n",
    "OK, let's ask a slightly harder question: how are students doing problem by problem? The answer will take several parts.\n",
    "\n",
    "First, let's get the number of unique problems"
   ]
  },
  {
   "cell_type": "code",
   "execution_count": 10,
   "metadata": {},
   "outputs": [],
   "source": [
    "# The unique identifier for each problem is the 'Problem Name'\n",
    "problems = traindata['Problem Name']"
   ]
  },
  {
   "cell_type": "code",
   "execution_count": 11,
   "metadata": {},
   "outputs": [
    {
     "name": "stdout",
     "output_type": "stream",
     "text": [
      "Number of unique problems:  1021\n"
     ]
    }
   ],
   "source": [
    "# Get just the uniques\n",
    "problems = np.unique(problems)\n",
    "print('Number of unique problems: ', len(problems))"
   ]
  },
  {
   "cell_type": "markdown",
   "metadata": {},
   "source": [
    "Then, let's compute which problems need the largest time on average."
   ]
  },
  {
   "cell_type": "code",
   "execution_count": 12,
   "metadata": {},
   "outputs": [
    {
     "name": "stderr",
     "output_type": "stream",
     "text": [
      "c:\\Python310\\lib\\site-packages\\numpy\\lib\\nanfunctions.py:1215: RuntimeWarning: Mean of empty slice\n",
      "  return np.nanmean(a, axis, out=out, keepdims=keepdims)\n",
      "c:\\Python310\\lib\\site-packages\\numpy\\lib\\nanfunctions.py:1215: RuntimeWarning: Mean of empty slice\n",
      "  return np.nanmean(a, axis, out=out, keepdims=keepdims)\n",
      "c:\\Python310\\lib\\site-packages\\numpy\\lib\\nanfunctions.py:1215: RuntimeWarning: Mean of empty slice\n",
      "  return np.nanmean(a, axis, out=out, keepdims=keepdims)\n"
     ]
    }
   ],
   "source": [
    "pmedian_times = {}\n",
    "for p in problems:\n",
    "    pmedian_times[p] = traindata[traindata['Problem Name'] == p]['Correct Step Duration (sec)'].median()"
   ]
  },
  {
   "cell_type": "code",
   "execution_count": 13,
   "metadata": {},
   "outputs": [],
   "source": [
    "import operator"
   ]
  },
  {
   "cell_type": "code",
   "execution_count": 14,
   "metadata": {},
   "outputs": [],
   "source": [
    "sorted_times = sorted(pmedian_times.items(), key=operator.itemgetter(1), reverse=True)"
   ]
  },
  {
   "cell_type": "code",
   "execution_count": 15,
   "metadata": {},
   "outputs": [
    {
     "name": "stdout",
     "output_type": "stream",
     "text": [
      "The hardest top-5 problem and its average correct duration (sec).\n",
      "[('JAN13C', 65.0), ('TRANSFORMN022', 32.0), ('EG-FACTOR45', 30.0), ('BH1T33B', 25.0), ('EG-FACTOR47', 23.0)]\n",
      "The earliest top-5 problem and its average correct duration (sec).\n",
      "[('TRANSFORMN013', 1.25), ('TRANSFORMN014', 1.25), ('TRANSFORMG042', 1.0), ('TRANSFORMN004', 1.0), ('TRANSFORMN005', 1.0)]\n"
     ]
    }
   ],
   "source": [
    "print(\"The hardest top-5 problem and its average correct duration (sec).\")\n",
    "print(sorted_times[:5])\n",
    "\n",
    "print(\"The earliest top-5 problem and its average correct duration (sec).\")\n",
    "print(sorted_times[len(sorted_times)-5:])"
   ]
  },
  {
   "cell_type": "markdown",
   "metadata": {},
   "source": [
    "Statistical results of problem difficulty"
   ]
  },
  {
   "cell_type": "code",
   "execution_count": 16,
   "metadata": {},
   "outputs": [
    {
     "data": {
      "image/png": "[encoded data removed]",
      "text/plain": [
       "<Figure size 640x480 with 1 Axes>"
      ]
     },
     "metadata": {},
     "output_type": "display_data"
    }
   ],
   "source": [
    "hist = plt.hist(np.array(list(pmedian_times.values())),bins=15,density=True,log=False,range=(0,25))\n",
    "plt.xlabel('Time to correct answer (sec)')\n",
    "plt.ylabel('Number')\n",
    "plt.show()"
   ]
  },
  {
   "cell_type": "markdown",
   "metadata": {},
   "source": [
    "If we take the time to correct answer as the difficulty of a problem, the histogram shows visually the difficulties of all the problems. "
   ]
  },
  {
   "cell_type": "markdown",
   "metadata": {},
   "source": [
    "### Conclusion\n",
    "There are many other interesting characteristic in this dataset.\n",
    "Like, \n",
    "* After some practices, students may become better at solving problems.\n",
    "* Same problem step for different students may request different knowledge components. Or for some problems, there is only one correct knowledge components\n",
    "\n",
    "These may be some things you need to take consider into for the feature engineering part. We leave them for you to explore deeper."
   ]
  },
  {
   "cell_type": "markdown",
   "metadata": {},
   "source": [
    "### THE distribution of the data"
   ]
  },
  {
   "cell_type": "code",
   "execution_count": 16,
   "metadata": {},
   "outputs": [
    {
     "data": {
      "text/plain": [
       "count               173489\n",
       "unique                 348\n",
       "top       Entering a given\n",
       "freq                 18682\n",
       "Name: KC(Default), dtype: object"
      ]
     },
     "execution_count": 16,
     "metadata": {},
     "output_type": "execute_result"
    }
   ],
   "source": [
    "KC = traindata['KC(Default)']\n",
    "havenum=False\n",
    "for item in KC:\n",
    "    if pd.isnull(item):\n",
    "        havenum=True\n",
    "havenum\n",
    "KC.describe()\n"
   ]
  },
  {
   "cell_type": "code",
   "execution_count": 17,
   "metadata": {},
   "outputs": [
    {
     "data": {
      "text/plain": [
       "count     173489\n",
       "unique     36784\n",
       "top            1\n",
       "freq        2619\n",
       "Name: Opportunity(Default), dtype: object"
      ]
     },
     "execution_count": 17,
     "metadata": {},
     "output_type": "execute_result"
    }
   ],
   "source": [
    "Opportunity = traindata['Opportunity(Default)']\n",
    "\n",
    "havenum=False\n",
    "for item in Opportunity:\n",
    "    if pd.isnull(item):\n",
    "        havenum=True\n",
    "havenum\n",
    "Opportunity.describe()"
   ]
  },
  {
   "cell_type": "code",
   "execution_count": 18,
   "metadata": {},
   "outputs": [
    {
     "data": {
      "text/plain": [
       "count         232744\n",
       "unique           174\n",
       "top       dvG32rxRzQ\n",
       "freq            7266\n",
       "Name: Anon Student Id, dtype: object"
      ]
     },
     "execution_count": 18,
     "metadata": {},
     "output_type": "execute_result"
    }
   ],
   "source": [
    "ID = traindata['Anon Student Id']\n",
    "havenum=False\n",
    "for item in ID:\n",
    "    if pd.isnull(item):\n",
    "        havenum=True\n",
    "havenum\n",
    "ID.describe()"
   ]
  },
  {
   "cell_type": "code",
   "execution_count": 19,
   "metadata": {},
   "outputs": [
    {
     "data": {
      "text/plain": [
       "count     232744\n",
       "unique      1021\n",
       "top         EG40\n",
       "freq        6116\n",
       "Name: Problem Name, dtype: object"
      ]
     },
     "execution_count": 19,
     "metadata": {},
     "output_type": "execute_result"
    }
   ],
   "source": [
    "PN = traindata['Problem Name']\n",
    "\n",
    "havenum=False\n",
    "for item in PN:\n",
    "    if pd.isnull(item):\n",
    "        havenum=True\n",
    "havenum\n",
    "PN.describe()"
   ]
  },
  {
   "cell_type": "code",
   "execution_count": 11,
   "metadata": {},
   "outputs": [
    {
     "data": {
      "text/plain": [
       "False"
      ]
     },
     "execution_count": 11,
     "metadata": {},
     "output_type": "execute_result"
    }
   ],
   "source": [
    "SN = traindata['Step Name']\n",
    "SN.describe()\n",
    "\n",
    "havenum=False\n",
    "for item in SN:\n",
    "    if pd.isnull(item):\n",
    "        havenum=True\n",
    "havenum"
   ]
  },
  {
   "cell_type": "code",
   "execution_count": 12,
   "metadata": {},
   "outputs": [
    {
     "data": {
      "text/plain": [
       "False"
      ]
     },
     "execution_count": 12,
     "metadata": {},
     "output_type": "execute_result"
    }
   ],
   "source": [
    "PH = traindata['Problem Hierarchy']\n",
    "PH.describe()\n",
    "\n",
    "havenum=False\n",
    "for item in PH:\n",
    "    if pd.isnull(item):\n",
    "        havenum=True\n",
    "havenum"
   ]
  },
  {
   "cell_type": "code",
   "execution_count": 15,
   "metadata": {},
   "outputs": [
    {
     "data": {
      "text/plain": [
       "False"
      ]
     },
     "execution_count": 15,
     "metadata": {},
     "output_type": "execute_result"
    }
   ],
   "source": [
    "PV = traindata['Problem View']\n",
    "PV.describe()\n",
    "havenum=False\n",
    "for item in PV:\n",
    "    if pd.isnull(item):\n",
    "        havenum=True\n",
    "havenum\n",
    "\n"
   ]
  }
 ],
 "metadata": {
  "interpreter": {
   "hash": "369f2c481f4da34e4445cda3fffd2e751bd1c4d706f27375911949ba6bb62e1c"
  },
  "kernelspec": {
   "display_name": "Python 3.10.4 64-bit",
   "language": "python",
   "name": "python3"
  },
  "language_info": {
   "codemirror_mode": {
    "name": "ipython",
    "version": 3
   },
   "file_extension": ".py",
   "mimetype": "text/x-python",
   "name": "python",
   "nbconvert_exporter": "python",
   "pygments_lexer": "ipython3",
   "version": "3.10.4"
  }
 },
 "nbformat": 4,
 "nbformat_minor": 1
}
